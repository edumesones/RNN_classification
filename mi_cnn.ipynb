{
  "cells": [
    {
      "cell_type": "code",
      "execution_count": null,
      "metadata": {
        "colab": {
          "base_uri": "https://localhost:8080/",
          "height": 119
        },
        "colab_type": "code",
        "id": "rpVgSST_Y455",
        "outputId": "aa3258c9-eacb-4099-a711-bba9fd4b507d"
      },
      "outputs": [
        {
          "name": "stdout",
          "output_type": "stream",
          "text": [
            "Requirement already up-to-date: keras in /usr/local/lib/python3.6/dist-packages (2.4.3)\n",
            "Requirement already satisfied, skipping upgrade: pyyaml in /usr/local/lib/python3.6/dist-packages (from keras) (3.13)\n",
            "Requirement already satisfied, skipping upgrade: scipy>=0.14 in /usr/local/lib/python3.6/dist-packages (from keras) (1.4.1)\n",
            "Requirement already satisfied, skipping upgrade: h5py in /usr/local/lib/python3.6/dist-packages (from keras) (2.10.0)\n",
            "Requirement already satisfied, skipping upgrade: numpy>=1.9.1 in /usr/local/lib/python3.6/dist-packages (from keras) (1.18.5)\n",
            "Requirement already satisfied, skipping upgrade: six in /usr/local/lib/python3.6/dist-packages (from h5py->keras) (1.15.0)\n"
          ]
        }
      ],
      "source": [
        "pip install --upgrade keras"
      ]
    },
    {
      "cell_type": "markdown",
      "metadata": {
        "colab_type": "text",
        "id": "kj7yYesKbctW"
      },
      "source": [
        "# Parte 1 - Construir el modelo de CNN\n",
        "\n",
        "# Importar las librerías y paquetes"
      ]
    },
    {
      "cell_type": "code",
      "execution_count": 2,
      "metadata": {
        "colab": {},
        "colab_type": "code",
        "id": "YBacLjT1Y81H"
      },
      "outputs": [],
      "source": [
        "from keras.models import Sequential\n",
        "from keras.layers import Conv2D\n",
        "from keras.layers import MaxPooling2D\n",
        "from keras.layers import Flatten\n",
        "from keras.layers import Dense"
      ]
    },
    {
      "cell_type": "markdown",
      "metadata": {
        "colab_type": "text",
        "id": "AtczsRskbj2F"
      },
      "source": [
        "# Inicializar la CNN"
      ]
    },
    {
      "cell_type": "code",
      "execution_count": 12,
      "metadata": {
        "colab": {},
        "colab_type": "code",
        "id": "rQL9sTJ9Y_Vc"
      },
      "outputs": [],
      "source": [
        "classifier = Sequential()\n"
      ]
    },
    {
      "cell_type": "markdown",
      "metadata": {
        "colab_type": "text",
        "id": "tUbAgrrqbpsY"
      },
      "source": [
        "# Paso 1 - Convolución\n",
        "* Los numeros potencia de 2 funcionan mejor, es decir, 32,64,128\n"
      ]
    },
    {
      "cell_type": "code",
      "execution_count": 13,
      "metadata": {
        "colab": {},
        "colab_type": "code",
        "id": "2kYdJsjsZCR8"
      },
      "outputs": [],
      "source": [
        "classifier.add(Conv2D(filters = 32,kernel_size = (3, 3), \n",
        "                      input_shape = (64, 64, 3), activation = \"relu\"))\n"
      ]
    },
    {
      "cell_type": "markdown",
      "metadata": {
        "colab_type": "text",
        "id": "rBFya76KbsKw"
      },
      "source": [
        "# Paso 2 - Max Pooling"
      ]
    },
    {
      "cell_type": "code",
      "execution_count": 14,
      "metadata": {
        "colab": {},
        "colab_type": "code",
        "id": "jty3bSFYZD98"
      },
      "outputs": [],
      "source": [
        "classifier.add(MaxPooling2D(pool_size = (2,2)))"
      ]
    },
    {
      "cell_type": "markdown",
      "metadata": {
        "colab_type": "text",
        "id": "IgJ4s9fSb8bm"
      },
      "source": [
        "# Una segunda capa de convolución y max pooling"
      ]
    },
    {
      "cell_type": "code",
      "execution_count": 15,
      "metadata": {
        "colab": {},
        "colab_type": "code",
        "id": "mkVuO25YZHtg"
      },
      "outputs": [],
      "source": [
        "classifier.add(Conv2D(filters = 32,kernel_size = (3, 3), activation = \"relu\"))"
      ]
    },
    {
      "cell_type": "code",
      "execution_count": 16,
      "metadata": {
        "colab": {},
        "colab_type": "code",
        "id": "e0rd5DVFZIWb"
      },
      "outputs": [],
      "source": [
        "classifier.add(MaxPooling2D(pool_size = (2,2)))\n"
      ]
    },
    {
      "cell_type": "markdown",
      "metadata": {
        "colab_type": "text",
        "id": "gfacNAkPb_T-"
      },
      "source": [
        "# Paso 3 - Flattening\n",
        "* aqui terminamos de diseñar la capa de entrada"
      ]
    },
    {
      "cell_type": "code",
      "execution_count": 17,
      "metadata": {
        "colab": {},
        "colab_type": "code",
        "id": "JWl9_DHxZJZD"
      },
      "outputs": [],
      "source": [
        "classifier.add(Flatten())"
      ]
    },
    {
      "cell_type": "markdown",
      "metadata": {
        "colab_type": "text",
        "id": "Ksz0Q4WGcB77"
      },
      "source": [
        "# Paso 4 - Full Connection\n",
        "* se pone units igual a 1 porque con softmax podremos saber las probabilidades analogas"
      ]
    },
    {
      "cell_type": "code",
      "execution_count": 18,
      "metadata": {
        "colab": {},
        "colab_type": "code",
        "id": "KQnTQSjyZKXs"
      },
      "outputs": [],
      "source": [
        "classifier.add(Dense(units = 128, activation = \"relu\"))\n",
        "classifier.add(Dense(units = 1, activation = \"sigmoid\"))"
      ]
    },
    {
      "cell_type": "markdown",
      "metadata": {
        "colab_type": "text",
        "id": "p7INHvHmcFdL"
      },
      "source": [
        "# Compilar la CNN\n",
        "# Como va a ser entrenada?"
      ]
    },
    {
      "cell_type": "code",
      "execution_count": 19,
      "metadata": {
        "colab": {},
        "colab_type": "code",
        "id": "Uc7pBop7ZLeN"
      },
      "outputs": [],
      "source": [
        "classifier.compile(optimizer = \"adam\", loss = \"binary_crossentropy\", metrics = [\"accuracy\"])\n"
      ]
    },
    {
      "cell_type": "markdown",
      "metadata": {
        "colab_type": "text",
        "id": "hits0FnccMjr"
      },
      "source": [
        "# Parte 2 - Ajustar la CNN a las imágenes para entrenar\n",
        "\n",
        "* normalizar el valor de los pixeles , para eso utilizamos rescale\n",
        "* target_size tiene que tener el mismo tamaño que el input_shape\n",
        "* batch_size cogera paquetes de 32 en 32 imagenes\n",
        "* cuantas pasadas hacer por epoch=steps_per_epoch"
      ]
    },
    {
      "cell_type": "code",
      "execution_count": 20,
      "metadata": {
        "colab": {
          "base_uri": "https://localhost:8080/",
          "height": 425
        },
        "colab_type": "code",
        "id": "BYgCwVDFZMrU",
        "outputId": "641d711f-0723-447f-811b-1c1aaa639274"
      },
      "outputs": [
        {
          "name": "stdout",
          "output_type": "stream",
          "text": [
            "Found 8000 images belonging to 2 classes.\n",
            "Found 2000 images belonging to 2 classes.\n",
            "Epoch 1/25\n",
            "250/250 [==============================] - ETA: 0s - loss: 0.6932 - accuracy: 0.5444WARNING:tensorflow:Your input ran out of data; interrupting training. Make sure that your dataset or generator can generate at least `steps_per_epoch * epochs` batches (in this case, 2000 batches). You may need to use the repeat() function when building your dataset.\n",
            "250/250 [==============================] - 135s 538ms/step - loss: 0.6932 - accuracy: 0.5444 - val_loss: 0.6657 - val_accuracy: 0.6250\n",
            "Epoch 2/25\n",
            "250/250 [==============================] - 55s 218ms/step - loss: 0.6359 - accuracy: 0.6391\n",
            "Epoch 3/25\n",
            "250/250 [==============================] - 44s 178ms/step - loss: 0.5695 - accuracy: 0.6973\n",
            "Epoch 4/25\n",
            "250/250 [==============================] - 62s 247ms/step - loss: 0.5395 - accuracy: 0.7303\n",
            "Epoch 5/25\n",
            "250/250 [==============================] - 58s 232ms/step - loss: 0.5076 - accuracy: 0.7469\n",
            "Epoch 6/25\n",
            "250/250 [==============================] - 47s 186ms/step - loss: 0.4945 - accuracy: 0.7610\n",
            "Epoch 7/25\n",
            "250/250 [==============================] - 48s 192ms/step - loss: 0.4818 - accuracy: 0.7711\n",
            "Epoch 8/25\n",
            "250/250 [==============================] - 45s 178ms/step - loss: 0.4642 - accuracy: 0.7810\n",
            "Epoch 9/25\n",
            "250/250 [==============================] - 55s 220ms/step - loss: 0.4614 - accuracy: 0.7791\n",
            "Epoch 10/25\n",
            "250/250 [==============================] - 58s 232ms/step - loss: 0.4429 - accuracy: 0.7891\n",
            "Epoch 11/25\n",
            "250/250 [==============================] - 56s 224ms/step - loss: 0.4356 - accuracy: 0.7961\n",
            "Epoch 12/25\n",
            "250/250 [==============================] - 60s 242ms/step - loss: 0.4192 - accuracy: 0.8074\n",
            "Epoch 13/25\n",
            "250/250 [==============================] - 57s 226ms/step - loss: 0.4103 - accuracy: 0.8102\n",
            "Epoch 14/25\n",
            "250/250 [==============================] - 56s 223ms/step - loss: 0.4090 - accuracy: 0.8080\n",
            "Epoch 15/25\n",
            "250/250 [==============================] - 54s 217ms/step - loss: 0.3961 - accuracy: 0.8138\n",
            "Epoch 16/25\n",
            "250/250 [==============================] - 45s 177ms/step - loss: 0.3859 - accuracy: 0.8217\n",
            "Epoch 17/25\n",
            "250/250 [==============================] - 51s 202ms/step - loss: 0.3792 - accuracy: 0.8249\n",
            "Epoch 18/25\n",
            "250/250 [==============================] - 51s 202ms/step - loss: 0.3801 - accuracy: 0.8251\n",
            "Epoch 19/25\n",
            "250/250 [==============================] - 39s 156ms/step - loss: 0.3711 - accuracy: 0.8332\n",
            "Epoch 20/25\n",
            "250/250 [==============================] - 38s 150ms/step - loss: 0.3624 - accuracy: 0.8356\n",
            "Epoch 21/25\n",
            "250/250 [==============================] - 34s 137ms/step - loss: 0.3526 - accuracy: 0.8410\n",
            "Epoch 22/25\n",
            "250/250 [==============================] - 33s 133ms/step - loss: 0.3484 - accuracy: 0.8443\n",
            "Epoch 23/25\n",
            "250/250 [==============================] - 34s 135ms/step - loss: 0.3426 - accuracy: 0.8441\n",
            "Epoch 24/25\n",
            "250/250 [==============================] - 33s 133ms/step - loss: 0.3400 - accuracy: 0.8472\n",
            "Epoch 25/25\n",
            "250/250 [==============================] - 33s 134ms/step - loss: 0.3213 - accuracy: 0.8586\n"
          ]
        },
        {
          "data": {
            "text/plain": [
              "<keras.callbacks.History at 0x1a387f73340>"
            ]
          },
          "execution_count": 20,
          "metadata": {},
          "output_type": "execute_result"
        }
      ],
      "source": [
        "from keras.preprocessing.image import ImageDataGenerator\n",
        "\n",
        "train_datagen = ImageDataGenerator(\n",
        "        rescale=1./255,\n",
        "        shear_range=0.2,\n",
        "        zoom_range=0.2,\n",
        "        horizontal_flip=True)\n",
        "\n",
        "test_datagen = ImageDataGenerator(rescale=1./255)\n",
        "\n",
        "training_dataset = train_datagen.flow_from_directory('dataset/training_set',\n",
        "                                                    target_size=(64, 64),\n",
        "                                                    batch_size=32,\n",
        "                                                    class_mode='binary')\n",
        "\n",
        "testing_dataset = test_datagen.flow_from_directory('dataset/test_set',\n",
        "                                                target_size=(64, 64),\n",
        "                                                batch_size=32,\n",
        "                                                class_mode='binary')\n",
        "\n",
        "classifier.fit(training_dataset,\n",
        "                        steps_per_epoch=training_dataset.n//32,\n",
        "                        epochs=25,\n",
        "                        validation_data=testing_dataset,\n",
        "                        validation_steps=2000)\n",
        "\n"
      ]
    },
    {
      "cell_type": "markdown",
      "metadata": {
        "colab_type": "text",
        "id": "KwHuYDWfcPEZ"
      },
      "source": [
        "# Parte 3 - Cómo hacer nuevas predicciones"
      ]
    },
    {
      "cell_type": "code",
      "execution_count": 34,
      "metadata": {
        "colab": {},
        "colab_type": "code",
        "id": "Z7k7KG9SZOjL"
      },
      "outputs": [
        {
          "name": "stdout",
          "output_type": "stream",
          "text": [
            "1/1 [==============================] - 0s 23ms/step\n",
            "{'cats': 0, 'dogs': 1}\n",
            "[[0.]]\n",
            "cat\n"
          ]
        }
      ],
      "source": [
        "import tensorflow as tf\n",
        "import numpy as np\n",
        "import keras\n",
        "#from keras.utils import image\n",
        "test_image = keras.utils.load_img('dataset/single_prediction/cat_or_dog_3.jpg', target_size = (64, 64))\n",
        "test_image = keras.utils.img_to_array(test_image)\n",
        "test_image = np.expand_dims(test_image, axis = 0)\n",
        "result = classifier.predict(test_image)\n",
        "print(training_dataset.class_indices)\n",
        "print(result)\n",
        "\n",
        "if result[0][0] == 1:\n",
        "    prediction = 'dog'\n",
        "else:\n",
        "    prediction = 'cat'\n",
        "\n",
        "print(prediction)"
      ]
    }
  ],
  "metadata": {
    "accelerator": "GPU",
    "colab": {
      "name": "CNN.ipynb",
      "provenance": [],
      "toc_visible": true
    },
    "kernelspec": {
      "display_name": "Python 3.8.6 64-bit",
      "language": "python",
      "name": "python3"
    },
    "language_info": {
      "codemirror_mode": {
        "name": "ipython",
        "version": 3
      },
      "file_extension": ".py",
      "mimetype": "text/x-python",
      "name": "python",
      "nbconvert_exporter": "python",
      "pygments_lexer": "ipython3",
      "version": "3.8.6"
    },
    "vscode": {
      "interpreter": {
        "hash": "16127d7edb4711e0f64426dc40cf92e3254d8faeee1ffdb5511328acbf6b524a"
      }
    }
  },
  "nbformat": 4,
  "nbformat_minor": 0
}
